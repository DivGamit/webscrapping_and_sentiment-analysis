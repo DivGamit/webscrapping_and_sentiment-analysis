{
  "nbformat": 4,
  "nbformat_minor": 0,
  "metadata": {
    "colab": {
      "provenance": [],
      "authorship_tag": "ABX9TyOL+zTP9TaeyIdpcaIdIbum"
    },
    "kernelspec": {
      "name": "python3",
      "display_name": "Python 3"
    },
    "language_info": {
      "name": "python"
    }
  },
  "cells": [
    {
      "cell_type": "code",
      "execution_count": null,
      "metadata": {
        "id": "etvlQ4AXg1w8"
      },
      "outputs": [],
      "source": [
        "from bs4 import BeautifulSoup\n",
        "from textblob import TextBlob"
      ]
    },
    {
      "cell_type": "code",
      "source": [
        "file = open('testing.html', 'r')\n",
        "page = file.read()\n",
        "soup = BeautifulSoup(page, \"html.parser\").find_all('p')\n",
        "for p in soup:\n",
        "  print(p.get_text())\n",
        "for p in soup:\n",
        "  text = p.get_text()\n",
        "  sentiment = TextBlob(text).sentiment.polarity\n",
        "  print(sentiment)"
      ],
      "metadata": {
        "colab": {
          "base_uri": "https://localhost:8080/"
        },
        "id": "IyqTayBVPXxL",
        "outputId": "2e735c2f-24b5-4601-98d5-dc1e377ac00f"
      },
      "execution_count": null,
      "outputs": [
        {
          "output_type": "stream",
          "name": "stdout",
          "text": [
            " Testing \n",
            "Spongebob squarepants is one of the best shows on TV\n",
            "Spongebob is a good and happy character of the show\n",
            "Squidward is a sad character of the show which lives next to Spongebob \n",
            "Patrick is the best buddy of Soongebob and also lives next to Spongebob\n",
            "Spongebob squarepants is one of the best shows on TV \n",
            "Spongebob and Squidward both work at Krusty Krab under Mister Krab\n",
            "Mister Krab is a greedy character in the show\n",
            "0.0\n",
            "1.0\n",
            "0.75\n",
            "-0.25\n",
            "0.5\n",
            "1.0\n",
            "0.0\n",
            "0.0\n"
          ]
        }
      ]
    },
    {
      "cell_type": "code",
      "source": [
        "positive, negative = 0 , 0\n"
      ],
      "metadata": {
        "id": "xTUM2iiPPozD"
      },
      "execution_count": null,
      "outputs": []
    },
    {
      "cell_type": "code",
      "source": [
        "for p in soup:\n",
        "  text = p.get_text()\n",
        "  sentiment = TextBlob(text).sentiment.polarity\n",
        "  if (sentiment>=0):\n",
        "    positive += 1\n",
        "  else:\n",
        "    negative -= 1\n",
        "print(\"positive review :\", positive)\n",
        "print(\"negative review :\",negative)"
      ],
      "metadata": {
        "colab": {
          "base_uri": "https://localhost:8080/"
        },
        "id": "ZtLYmtFgQRvb",
        "outputId": "58348919-1851-43de-82cb-ed108b77cb90"
      },
      "execution_count": null,
      "outputs": [
        {
          "output_type": "stream",
          "name": "stdout",
          "text": [
            "positive review : 14\n",
            "negative review : -2\n"
          ]
        }
      ]
    }
  ]
}